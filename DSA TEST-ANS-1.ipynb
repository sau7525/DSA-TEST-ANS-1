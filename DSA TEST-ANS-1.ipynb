{
 "cells": [
  {
   "cell_type": "code",
   "execution_count": 1,
   "id": "877b5d35-a783-48c2-bfdc-840278676924",
   "metadata": {},
   "outputs": [
    {
     "name": "stdout",
     "output_type": "stream",
     "text": [
      "[1, 3, 12, 0, 0]\n",
      "[0]\n"
     ]
    }
   ],
   "source": [
    "def moveZeroes(nums):\n",
    "    \n",
    "    i = 0\n",
    "    j = 0\n",
    "    \n",
    "    \n",
    "    while i < len(nums):\n",
    "        \n",
    "        if nums[i] != 0:\n",
    "            nums[j] = nums[i]\n",
    "            j += 1\n",
    "        i += 1\n",
    "    \n",
    "    \n",
    "    while j < len(nums):\n",
    "        nums[j] = 0\n",
    "        j += 1\n",
    "\n",
    "\n",
    "nums1 = [0, 1, 0, 3, 12]\n",
    "moveZeroes(nums1)\n",
    "print(nums1)  \n",
    "\n",
    "\n",
    "nums2 = [0]\n",
    "moveZeroes(nums2)\n",
    "print(nums2)\n",
    "\n",
    "\n",
    "\n",
    "\n",
    "\n",
    "\n"
   ]
  },
  {
   "cell_type": "code",
   "execution_count": null,
   "id": "d3213464-6848-4584-8ec0-83b86936ccce",
   "metadata": {},
   "outputs": [],
   "source": []
  }
 ],
 "metadata": {
  "kernelspec": {
   "display_name": "Python 3 (ipykernel)",
   "language": "python",
   "name": "python3"
  },
  "language_info": {
   "codemirror_mode": {
    "name": "ipython",
    "version": 3
   },
   "file_extension": ".py",
   "mimetype": "text/x-python",
   "name": "python",
   "nbconvert_exporter": "python",
   "pygments_lexer": "ipython3",
   "version": "3.10.8"
  }
 },
 "nbformat": 4,
 "nbformat_minor": 5
}
